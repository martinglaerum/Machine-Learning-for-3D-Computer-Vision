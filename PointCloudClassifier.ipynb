{
  "nbformat": 4,
  "nbformat_minor": 0,
  "metadata": {
    "colab": {
      "provenance": [],
      "gpuType": "T4"
    },
    "kernelspec": {
      "name": "python3",
      "display_name": "Python 3"
    },
    "language_info": {
      "name": "python"
    },
    "accelerator": "GPU"
  },
  "cells": [
    {
      "cell_type": "code",
      "execution_count": 1,
      "metadata": {
        "colab": {
          "base_uri": "https://localhost:8080/"
        },
        "id": "BHNPqdB0HoQ3",
        "outputId": "b4e2a3c5-4a10-4cad-e130-bfc1b79b4f9a"
      },
      "outputs": [
        {
          "output_type": "stream",
          "name": "stdout",
          "text": [
            "Mounted at /content/drive\n"
          ]
        }
      ],
      "source": [
        "# Mount Google Drive\n",
        "from google.colab import drive\n",
        "drive.mount(\"/content/drive\")"
      ]
    },
    {
      "cell_type": "code",
      "source": [
        "# Add pre-installed pytorch3d to sys.path\n",
        "import sys\n",
        "sys.path.append(\"/content/drive/My Drive/GoogleColab/pytorch3d_packages\")"
      ],
      "metadata": {
        "id": "PckH9-HWIDkI"
      },
      "execution_count": 2,
      "outputs": []
    },
    {
      "cell_type": "code",
      "source": [
        "import os\n",
        "import zipfile\n",
        "import torch\n",
        "import torch.nn as nn\n",
        "import torch.nn.functional as F\n",
        "from torch.utils.data import DataLoader, random_split\n",
        "from pytorch3d.datasets import ShapeNetCore\n",
        "\n",
        "\n",
        "# Unzipping the dataset\n",
        "# Note, problem with the code. For extract_path, it needs to run once and get an error,\n",
        "# then change the variable to extract_path = \"/content/ShapeNetCore/ShapeNetCore/ShapeNetCore\"\n",
        "\n",
        "zip_path = \"/content/drive/My Drive/GoogleColab/ShapeNetCore.zip\"\n",
        "extract_path = \"/content/ShapeNetCore/ShapeNetCore\"\n",
        "\n",
        "if not os.path.exists(extract_path):\n",
        "    print(\"Extracting dataset...\")\n",
        "    with zipfile.ZipFile(zip_path, 'r') as zip_ref:\n",
        "        zip_ref.extractall(os.path.dirname(extract_path))\n",
        "    print(\"Extraction complete.\")\n",
        "else:\n",
        "    print(\"Dataset already extracted.\")\n",
        "\n",
        "# Check to see that the ShapeNetCore models are found\n",
        "print(os.listdir(extract_path))\n",
        "\n",
        "\n",
        "# Variables\n",
        "categories = [\"03642806\", \"03211117\", \"03046257\", \"02992529\", \"02808440\"]\n",
        "category_names = [\"Laptop\", \"Monitor\", \"Clock\", \"Cellphone\", \"Bathtub\"]\n",
        "categories_to_idx = {s: i for i, s in enumerate(categories)}\n",
        "batch_size = 16\n",
        "lr = 0.001\n",
        "epochs = 20\n",
        "num_points = 500   # fixed input size for point clouds\n",
        "device = torch.device(\"cuda\" if torch.cuda.is_available() else \"cpu\")\n",
        "\n",
        "print(\"Using device:\", device)\n",
        "\n",
        "\n",
        "# Collate function that converts a batch of ShapeNet samples into fixed-size point clouds with labels\n",
        "def collate_pointcloud(batch):\n",
        "    verts_list = [b[\"verts\"] for b in batch]\n",
        "    synset_ids = [b[\"synset_id\"] for b in batch]\n",
        "    labels = torch.tensor([categories_to_idx[sid] for sid in synset_ids], dtype=torch.long)\n",
        "\n",
        "    pcs = []\n",
        "    for v in verts_list:\n",
        "        n = v.shape[0]\n",
        "        if n >= num_points: # Check if we need to add/remove points\n",
        "            idx = torch.randperm(n)[:num_points]\n",
        "            pc = v[idx]\n",
        "        else:\n",
        "            pad = torch.zeros(num_points - n, 3)\n",
        "            pc = torch.cat([v, pad], dim=0)\n",
        "        pcs.append(pc)\n",
        "\n",
        "    pcs = torch.stack(pcs, dim=0)\n",
        "    return pcs, labels\n",
        "\n",
        "\n",
        "# Point Cloud classifier\n",
        "class PointNetClassifier(nn.Module):\n",
        "    def __init__(self, num_classes=5):\n",
        "        super().__init__()\n",
        "        self.mlp1 = nn.Linear(3, 64)\n",
        "        self.mlp2 = nn.Linear(64, 128)\n",
        "        self.mlp3 = nn.Linear(128, 256)\n",
        "        self.fc1 = nn.Linear(256, 256)\n",
        "        self.fc2 = nn.Linear(256, 128)\n",
        "        self.fc3 = nn.Linear(128, num_classes)\n",
        "\n",
        "    def forward(self, x):\n",
        "        x = F.relu(self.mlp1(x))\n",
        "        x = F.relu(self.mlp2(x))\n",
        "        x = F.relu(self.mlp3(x))\n",
        "        x = torch.max(x, dim=1)[0]\n",
        "        x = F.relu(self.fc1(x))\n",
        "        x = F.relu(self.fc2(x))\n",
        "        return self.fc3(x)\n",
        "\n",
        "\n",
        "# Getting the dataset\n",
        "dataset = ShapeNetCore(\n",
        "    data_dir=extract_path,\n",
        "    synsets=categories,\n",
        "    version=2,\n",
        "    load_textures=False\n",
        ")\n",
        "print(\"Total models loaded:\", len(dataset))\n",
        "\n",
        "train_size = int(0.8 * len(dataset))\n",
        "val_size = len(dataset) - train_size\n",
        "train_set, val_set = random_split(dataset, [train_size, val_size])\n",
        "\n",
        "train_loader = DataLoader(train_set, batch_size=batch_size, shuffle=True,\n",
        "                          collate_fn=collate_pointcloud, num_workers=0)\n",
        "val_loader = DataLoader(val_set, batch_size=batch_size, shuffle=False,\n",
        "                        collate_fn=collate_pointcloud, num_workers=0)\n",
        "\n",
        "\n",
        "# Training the model\n",
        "model = PointNetClassifier(num_classes=len(categories)).to(device)\n",
        "criterion = nn.CrossEntropyLoss()\n",
        "optimizer = torch.optim.Adam(model.parameters(), lr=lr)\n",
        "\n",
        "\n",
        "for epoch in range(epochs):\n",
        "    model.train()\n",
        "    total_loss = 0.0\n",
        "    for pcs, labels in train_loader:\n",
        "        pcs, labels = pcs.to(device), labels.to(device)\n",
        "        optimizer.zero_grad()\n",
        "        outputs = model(pcs)\n",
        "        loss = criterion(outputs, labels)\n",
        "        loss.backward()\n",
        "        optimizer.step()\n",
        "        total_loss += loss.item()\n",
        "\n",
        "    # Validation\n",
        "    model.eval()\n",
        "    correct, total = 0, 0\n",
        "    class_correct = [0]*len(categories)\n",
        "    class_total = [0]*len(categories)\n",
        "    with torch.no_grad():\n",
        "        for pcs, labels in val_loader:\n",
        "            pcs, labels = pcs.to(device), labels.to(device)\n",
        "            outputs = model(pcs)\n",
        "            _, predicted = torch.max(outputs, dim=1)\n",
        "            total += labels.size(0)\n",
        "            correct += (predicted == labels).sum().item()\n",
        "            for i in range(labels.size(0)):\n",
        "                gt = labels[i].item()\n",
        "                pred = predicted[i].item()\n",
        "                class_total[gt] += 1\n",
        "                if gt == pred:\n",
        "                    class_correct[gt] += 1\n",
        "\n",
        "    val_acc = correct / total if total > 0 else 0.0\n",
        "    avg_loss = total_loss / (len(train_loader) if len(train_loader) > 0 else 1)\n",
        "    print(f\"Epoch {epoch+1}/{epochs}  Loss: {avg_loss:.4f}  Val Acc: {val_acc:.4f}\")\n",
        "    for i, name in enumerate(category_names):\n",
        "        if class_total[i] > 0:\n",
        "            print(f\"  {name}: {class_correct[i]/class_total[i]:.4f}\")\n",
        "    print()\n"
      ],
      "metadata": {
        "colab": {
          "base_uri": "https://localhost:8080/"
        },
        "id": "mv5NvDAsIGni",
        "outputId": "b69ce52e-b781-478f-c08c-532f4b92e85a"
      },
      "execution_count": null,
      "outputs": [
        {
          "output_type": "stream",
          "name": "stdout",
          "text": [
            "Extracting dataset...\n",
            "Extraction complete.\n",
            "['02808440', '03642806', '02992529', '03211117', '03046257']\n",
            "Using device: cuda\n"
          ]
        },
        {
          "output_type": "stream",
          "name": "stderr",
          "text": [
            "/content/drive/My Drive/GoogleColab/pytorch3d_packages/pytorch3d/datasets/shapenet/shapenet_core.py:116: UserWarning: The following categories are included in ShapeNetCore ver.2's official mapping but not found in the dataset location /content/ShapeNetCore/ShapeNetCore: 03593526, 02946921, 04468005, 04225987, 04256520, 02773838, 02843684, 02954340, 03710193, 03790512, 03001627, 02880940, 04379243, 02828884, 02801938, 04330267, 02691156, 03207941, 02958343, 03991062, 03928116, 04460130, 04074963, 03797390, 04099429, 04530566, 02871439, 03948459, 04401088, 03325088, 03337140, 02933112, 03691459, 04554684, 04004475, 03636649, 02876657, 03759954, 02747177, 03624134, 03085013, 02818832, 04090263, 03938244, 03761084, 02924116, 03467517, 03513137, 03261776, 02942699\n",
            "  warnings.warn(msg)\n"
          ]
        },
        {
          "output_type": "stream",
          "name": "stdout",
          "text": [
            "Total models loaded: 3891\n"
          ]
        }
      ]
    }
  ]
}